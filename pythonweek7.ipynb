# Import required libraries
import pandas as pd
import matplotlib.pyplot as plt
import seaborn as sns
from sklearn.datasets import load_iris

# 1. Data Loading
# Load the iris dataset
iris = load_iris()
df = pd.DataFrame(data=iris.data, columns=iris.feature_names)
df['species'] = pd.Categorical.from_codes(iris.target, iris.target_names)

# 2. Data Exploration
print("Dataset Overview:")
print("\nFirst 5 rows of the dataset:")
print(df.head())
print("\nDataset Info:")
print(df.info())
print("\nBasic Statistical Summary:")
print(df.describe())

# 3. Basic Data Analysis
# Group by species and calculate mean for each feature
species_means = df.groupby('species').mean()
print("\nMean values by species:")
print(species_means)

# Count of samples per species
species_counts = df['species'].value_counts()
print("\nCount of samples per species:")
print(species_counts)

# 4. Visualizations
# Set the style for better visualizations
plt.style.use('seaborn')

# 4.1 Bar Plot - Mean measurements by species
plt.figure(figsize=(12, 6))
species_means.plot(kind='bar')
plt.title('Mean Measurements by Iris Species')
plt.ylabel('Measurement (cm)')
plt.xticks(rotation=45)
plt.tight_layout()
plt.show()

# 4.2 Scatter Plot - Sepal Length vs Sepal Width
plt.figure(figsize=(10, 6))
for species in df['species'].unique():
    species_data = df[df['species'] == species]
    plt.scatter(species_data['sepal length (cm)'], 
                species_data['sepal width (cm)'], 
                label=species, 
                alpha=0.6)
plt.xlabel('Sepal Length (cm)')
plt.ylabel('Sepal Width (cm)')
plt.title('Sepal Length vs Sepal Width by Species')
plt.legend()
plt.tight_layout()
plt.show()

# 4.3 Box Plot - Distribution of Petal Length by Species
plt.figure(figsize=(10, 6))
sns.boxplot(x='species', y='petal length (cm)', data=df)
plt.title('Petal Length Distribution by Species')
plt.tight_layout()
plt.show()

# 5. Findings and Observations
print("""
Findings and Observations:
1. The dataset contains 150 samples with 4 numerical features and 1 categorical feature (species).
2. There are three species of iris flowers, each with 50 samples.
3. Setosa species has distinctly smaller petal measurements compared to Versicolor and Virginica.
4. The scatter plot shows that Setosa is well-separated from other species in terms of sepal measurements.
5. The box plot reveals that Virginica generally has the longest petals, while Setosa has the shortest.
6. There is some overlap in sepal measurements between Versicolor and Virginica.
""")
